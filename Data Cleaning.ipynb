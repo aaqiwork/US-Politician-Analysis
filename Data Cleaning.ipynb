{
 "cells": [
  {
   "cell_type": "code",
   "execution_count": 3,
   "metadata": {},
   "outputs": [],
   "source": [
    "# Web scraping, pickle imports\n",
    "import requests\n",
    "from bs4 import BeautifulSoup\n",
    "import pickle\n",
    "\n",
    "# Scrapes transcript data from scrapsfromtheloft.com\n",
    "def url_to_transcript(url):\n",
    "    '''Returns transcript data specifically from scrapsfromtheloft.com.'''\n",
    "    page = requests.get(url).text\n",
    "    soup = BeautifulSoup(page, \"lxml\")\n",
    "    text = [p.text for p in soup.find(class_=\"fl-callout-text\").find_all('p')]\n",
    "    print(url)\n",
    "    return text\n",
    "\n",
    "# URLs of transcripts in scope\n",
    "urls = ['https://www.rev.com/blog/transcripts/donald-trump-rally-speech-transcript-hickory-north-carolina-november-1',\n",
    "        'https://www.rev.com/blog/transcripts/joe-biden-campaign-event-speech-transcript-philadelphia-november-1',\n",
    "        'https://www.rev.com/blog/transcripts/barack-obama-campaign-speech-for-joe-biden-transcript-orlando-october-27',\n",
    "        'https://www.rev.com/blog/transcripts/mike-pence-faith-in-leadership-speech-transcript-october-1',\n",
    "        'https://www.rev.com/blog/transcripts/kamala-harris-campaign-speech-transcript-mcallen-texas-october-30'\n",
    "       ]\n",
    "\n",
    "# Comedian names\n",
    "comedians = ['President Donald J. Trump', 'Joe Biden','Barack Obama','Vice President Mike Pence','Kamala Harris']"
   ]
  },
  {
   "cell_type": "code",
   "execution_count": 4,
   "metadata": {},
   "outputs": [
    {
     "name": "stdout",
     "output_type": "stream",
     "text": [
      "https://www.rev.com/blog/transcripts/donald-trump-rally-speech-transcript-hickory-north-carolina-november-1\n",
      "https://www.rev.com/blog/transcripts/joe-biden-campaign-event-speech-transcript-philadelphia-november-1\n",
      "https://www.rev.com/blog/transcripts/barack-obama-campaign-speech-for-joe-biden-transcript-orlando-october-27\n",
      "https://www.rev.com/blog/transcripts/mike-pence-faith-in-leadership-speech-transcript-october-1\n",
      "https://www.rev.com/blog/transcripts/kamala-harris-campaign-speech-transcript-mcallen-texas-october-30\n"
     ]
    }
   ],
   "source": [
    "# Load pickled files\n",
    "data = {}\n",
    "# for i, c in enumerate(comedians):\n",
    "#     with open(\"transcripts/\" + c + \".txt\", \"rb\") as file:\n",
    "#         data[c] = pickle.load(file)\n",
    "for i, c in enumerate(comedians):\n",
    "    data[c]=url_to_transcript(urls[i])"
   ]
  },
  {
   "cell_type": "code",
   "execution_count": 5,
   "metadata": {},
   "outputs": [
    {
     "data": {
      "text/plain": [
       "dict_keys(['President Donald J. Trump', 'Joe Biden', 'Barack Obama', 'Vice President Mike Pence', 'Kamala Harris'])"
      ]
     },
     "execution_count": 5,
     "metadata": {},
     "output_type": "execute_result"
    }
   ],
   "source": [
    "# Double check to make sure data has been loaded properly\n",
    "data.keys()"
   ]
  },
  {
   "cell_type": "code",
   "execution_count": 6,
   "metadata": {},
   "outputs": [
    {
     "data": {
      "text/plain": [
       "['President Donald J. Trump: (02:08)\\nThank you very much. Wow. This is a very big crowd. Wow look at this. Hello North Carolina, hello. Two days from now we are going to win this great State just like we did last time. You were the one, right? You were the one that put us over that hump and we’re going to win four more years in the white house, our beautiful white house. With your vote we will continue to cut your taxes, cut regulations, support our great police, protect our Second Amendment, defend religious liberty and ensure more products are stamped with that beautiful phrase made in the USA. And next year will be the greatest economic year in the history of our country. Under my leadership our economy grew at the fastest rate ever recorded, 33.1% just announced. We created a record 11.4 million jobs in the last five months while foreign nations are in a free fall, we’re creating the world’s greatest economic powerhouse. A recent Gallup Poll just came out, found that 56% of Americans say they are better off today than they were four years ago under Obama and sleepy Joe Biden.',\n",
       " 'President Donald J. Trump: (03:53)\\nAnd I want to tell you it’s really windy up here. Thank goodness you have a President that doesn’t need teleprompters because these things are virtually useless. They are blowing all over the place. That’s true. They’re blowing all over. We started off today two great places. We went to Iowa, I’ll tell you what, in Iowa we had the coldest windiest, but it was warm because the people were warm and we’re going to win Iowa, very big, very big. But we had a couple of cold stops today. One was so cold we talked about refugees, we said, if they come in they’re going to say, “I want to go back immediately,” it was so cold. If Biden and Harris get in, the economy will collapse and our country will go into at least a free fall, but probably a depression, they want to raise your taxes. They want to take away your Second Amendment, they want to do lots of things that I don’t think you can stand for.']"
      ]
     },
     "execution_count": 6,
     "metadata": {},
     "output_type": "execute_result"
    }
   ],
   "source": [
    "# More checks\n",
    "data['President Donald J. Trump'][:2]"
   ]
  },
  {
   "cell_type": "code",
   "execution_count": 7,
   "metadata": {},
   "outputs": [
    {
     "data": {
      "text/plain": [
       "'President Donald J. Trump'"
      ]
     },
     "execution_count": 7,
     "metadata": {},
     "output_type": "execute_result"
    }
   ],
   "source": [
    "# Let's take a look at our data again\n",
    "next(iter(data.keys()))"
   ]
  },
  {
   "cell_type": "code",
   "execution_count": 8,
   "metadata": {},
   "outputs": [
    {
     "data": {
      "text/plain": [
       "['President Donald J. Trump: (02:08)\\nThank you very much. Wow. This is a very big crowd. Wow look at this. Hello North Carolina, hello. Two days from now we are going to win this great State just like we did last time. You were the one, right? You were the one that put us over that hump and we’re going to win four more years in the white house, our beautiful white house. With your vote we will continue to cut your taxes, cut regulations, support our great police, protect our Second Amendment, defend religious liberty and ensure more products are stamped with that beautiful phrase made in the USA. And next year will be the greatest economic year in the history of our country. Under my leadership our economy grew at the fastest rate ever recorded, 33.1% just announced. We created a record 11.4 million jobs in the last five months while foreign nations are in a free fall, we’re creating the world’s greatest economic powerhouse. A recent Gallup Poll just came out, found that 56% of Americans say they are better off today than they were four years ago under Obama and sleepy Joe Biden.',\n",
       " 'President Donald J. Trump: (03:53)\\nAnd I want to tell you it’s really windy up here. Thank goodness you have a President that doesn’t need teleprompters because these things are virtually useless. They are blowing all over the place. That’s true. They’re blowing all over. We started off today two great places. We went to Iowa, I’ll tell you what, in Iowa we had the coldest windiest, but it was warm because the people were warm and we’re going to win Iowa, very big, very big. But we had a couple of cold stops today. One was so cold we talked about refugees, we said, if they come in they’re going to say, “I want to go back immediately,” it was so cold. If Biden and Harris get in, the economy will collapse and our country will go into at least a free fall, but probably a depression, they want to raise your taxes. They want to take away your Second Amendment, they want to do lots of things that I don’t think you can stand for.',\n",
       " 'President Donald J. Trump: (05:02)\\nI don’t think you can send for, fracking doesn’t pertain so much to it, it does pertain in a different way to you than it would to Pennsylvania. They’re taking away you’re fracking but what they’re really doing is your energy costs are going to go through the roof, that will be very bad for this incredible State. They want to massively increase regulations, send your jobs overseas, destroy the suburbs, well we’re keeping the suburbs. I got rid of the regulation that would have destroyed the suburbs, they will bring it back worse than ever before. Terminate religious liberty, eliminate school choice, outlaw private healthcare, and shred your Second Amendment, take away your guns and indoctrinate your children with anti-American lies. Biden has vowed to abolish U.S. oil, U.S. fracking, natural gas, industry. Look at what he’s talking about doing, but it’s not him, he’s shot, okay? It’s not him.',\n",
       " 'President Donald J. Trump: (06:09)\\nIt’s the radical left, it’s the radical left. Energy prices will explode and that will cripple our country. We, right now, are energy independent, what we have going we’ve never had before. Biden’s energy ban will send every state from North Carolina to Michigan to Pennsylvania into a very, very severe problem and we’re not going to have it, we worked too hard. We had the greatest economy in the history of our country and then the plague came in from China, it came in from China, they should have never allowed it. They stopped it from going into China, but it came to us and Europe and the rest of the world and we’re never going to ever forget, we will never forget. But now we’re building our economy back up and it’s going in a V, but it’s really a super V. As long as I’m President, we will remain the number one producer of oil and natural gas on the planet earth and we will remain energy independent. Our opponents’ agenda is a war on workers, a war on faith and a war on our great police. Biden says he’s running as a proud Democrat, I’m running as a proud American.',\n",
       " 'Speaker 1: (07:48)\\nUSA! USA! USA! USA! USA! USA! USA! USA! USA!',\n",
       " 'President Donald J. Trump: (07:48)\\nThank you. Thank you very much. By the way, I just have to say this. So we had something incredible happen four years ago. This is more important and there’s more energy, the crowds are bigger, everything’s hotter. But this is actually and I never thought I’d say it because that was an incredible period of time, never thought, this is the most important election perhaps in the history of my country. Get out and vote. Got to get out and vote. Sleepy Joe Biden is a diehard globalist who spent 47 years outsourcing your jobs, opening your borders and sacrificing American blood and treasure in ridiculous, endless wars and they’re all coming back, they’re all coming back. North Carolina lost nearly half of its manufacturing jobs thanks to NAFTA, one of the worst trade deals ever. And we got rid of it, nobody thought that was possible. Promises made, promises kept. We did it all. Biden and his group shipped your jobs and your factories to China and other places in far away lands raking in millions of dollars for himself it turns out, we didn’t know about this, did we? His son was like a human vacuum cleaner, he went in and “Where are you going today, dad?” “I think I’ll go to Ukraine.” “Okay, let me pick up a couple of bucks.” $183,000 a month and $3 million upfront. “Where are you going today dad?” “I’m going to go to Russia,” “Good.” So the Mayor of Moscow’s wife gave him three and a half million dollars, right? And here’s the scary part, the fake news media and there’s a lot of it right back there, the fake news, they don’t want to talk about it, they don’t want to talk about it. And big tech will refuse to put it on and then they’ll terminate the New York Post if they put it up, New York Post I have to give them a lot of credit. Number one, they endorse me, which is nice.',\n",
       " 'President Donald J. Trump: (10:06)\\nI got endorsed today by the Pittsburgh Gazette and it hasn’t happened where they endorsed a Republican today. Nobody can believe it, they haven’t done it in decades. And thank you very much Pittsburgh Gazette, we’ll take it. We got endorsed by a lot of great people, we got endorsed by great people and a lot of newspapers are endorsing us because they know that Joe Biden is not up to this job. All you have to do is watch him for about five minutes, he is not up to this job. One thing I can tell you, President Xi, Putin, Kim Jong-un, they’re very sharp, they’re very sharp, they’re all very sharp and we cannot have a leader that’s not sharp. Joe Biden is a corrupt politician who is bought and paid for by China and other countries.',\n",
       " 'President Donald J. Trump: (10:57)\\nHow can you have a guy whose son walks out with a billion and a half dollars to manage, that means millions of dollars a year, whose son asked for $10 million a year for introductory purposes, right? $10 million a year and he’s supposed to be negotiating with China? China would just hope that I don’t win because, hey, we’ve taken in tens of billions of dollars a year first time ever with China, we never took in $25 cents. Saved our steel mills, saved our steel mills, saved our steel and aluminum industries. In 2016, North Carolina voted to fire this corrupt political establishment and you elected a President who is finally putting America first. And if I don’t sound like a typical Washington politician it’s because thankfully I’m not a politician and never will be. And if I don’t always play by …',\n",
       " 'President Donald J. Trump: (12:03)\\nNever will be. And if I don’t always play by the rules of Washington and the Washington establishment, it’s because I fight for you and there’s never been anybody that’s fought harder for you. I had a very nice life before doing this. I had a very nice life.',\n",
       " 'Speaker 2: (12:23)\\nWe love you! We love you!',\n",
       " 'President Donald J. Trump: (12:33)\\nThank you. Thank you. Thank you very much. So nice of you. That’s such a great honor, when I hear that. It’s never been said at any… I said, “Did anybody ever hear that? Ronald Reagan we liked, others we like.” Nobody’s ever heard it, and I appreciate it very much. My opponent is promising a long dark winter. Did anybody see the debate? I’m sure nobody watched it, right? He didn’t do too well. Remember he said, “You’re going to have a long dark winter”? It’s so inspiring. How about somebody says, “Gee, we really like Biden”? I don’t think anybody likes Biden. “Harry, let’s watch Biden tonight on television.” And he says, “We’re going to have a long dark winter.” How inspiring that is, right? So he said that, and I’m saying that we’re going to deliver the greatest American comeback in history. That’s what we’re doing, and we’re way ahead of schedule.',\n",
       " 'President Donald J. Trump: (13:32)\\nThis election is a choice between a Biden depression and a boom like you’ve never seen before. It’s a choice between a Biden lockdown. He wants to lock you down. Let’s lock it down. Let’s lock it down. And by the way, tell your Governor to open up North Carolina. It’s time. It’s ridiculous. It’s ridiculous. They’ll probably announce it on November 4th. “We’re going to open up now.” They thought our numbers wouldn’t be so good. They thought by keeping these states like Pennsylvania, North Carolina, Michigan, how about her? Her husband roams free. He’s the only one in the whole state. No, but they thought that by keeping them down the numbers would … And yet we had, at 33.1, that’s the highest in the history of our country. By double. You have to go back to 1952, and that was half of what we did. So we are looking forward. We’re going to have very shortly, within a couple of weeks, we’re going to have a safe vaccine that will end.',\n",
       " 'President Donald J. Trump: (14:42)\\nAnd now look, we’re rounding, they hate when I say it, the fake news, but we’re rounding the turn. We’re rounding the corner anyway. We’re rounding the corner. But on top of that, we have vaccines coming from Pfizer, Johnson & Johnson, Moderna, great companies, and they’re right there, they’re right. And we’re going to have them launched. And our military is going to do it logistically. Incredible. And we’re going to start with our seniors, especially our seniors where they have some problems with heart, with diabetes, and we’re going to have a great thing. It’s going to speed up the process we launched. And by the way, it does work here. I am. Here I am. No, I like to say that the medicine I took, Regeneron, I’d like to say that it had no impact on me, because I’m a perfect physical specimen and I’ very young. But I decided to take it anyway.',\n",
       " 'President Donald J. Trump: (15:40)\\nNo, it’s amazing the things we’ve been able to do in the last six months. Not only that, if you look at all of what we produce now, we’ve become a production … Incredible what we’re doing and what we’re sending to the world. The ventilators, what we’re sending to the world, I mean, we’re sending things that nobody could believe. The treatments that reduce the fatality rate now 85%. Think of it, think of it. But my wife, our First Lady got it and our son Baron got it. And Barron’s 14, and he’s very tall and he’s strong. And he had it for a matter of minutes. That’s why I say, “Get the kids back to school. Get them back to school.” The doctor came up to us and said, “I’m sorry, but Barron has tested positive.” And I said, “For what? Tested positive for what? And it’s got about 30 different names, but he said, “COVID.”',\n",
       " 'President Donald J. Trump: (16:41)\\nWe could call it the China Plague, the China Virus, but he didn’t say. He said, “COVID. I said, “Gee, that’s too bad.” He said, “Oh, he’ll be fine.” About 14 minutes later, he came back. I said, “How’s Baron doing?” “Oh, he shook it off. It’s fine. He’s fine.” They’re young. They have strong immune systems. Get them back to school, please. We’ve learned about this horrible plague that was sent to us by China. Our excess mortality rate in America is 40% lower than Europe. You keep hearing Europe is doing so well. They’re not doing so well. And we want them to do well, by the way. And we helped them. We helped them. We want them to do well. But they’re having a very hard time.',\n",
       " 'President Donald J. Trump: (17:27)\\nJoe Biden is promising to delay the vaccine and turn America into a prison state while letting rioters roam fee. They close your churches, they close your schools, but if you want to riot and burn down the stores and have the anarchists out there and do lots of it, that’s okay. You can’t stop that. You can’t go to school and you can’t go to church. It’s crazy. All Democrat run, by the way. All Democrat run. You look at Portland, Democrat, super liberal Democrat. We could fix that situation. We have to be invited in. We fixed Seattle because we said, “That’s enough. We’re going in. We don’t care. We’re going in.” So we were going in the next morning. That night they found out about it. They said, “We’re leaving now. Thank you very much.” And we did a great job in Minnesota, Minneapolis. After you watched that place burning, down a week and a half later, they went in and solved it in about a half an hour.',\n",
       " 'President Donald J. Trump: (18:29)\\nIf we’d listened to Joe Biden on allowing travel to come in from China and Europe, remember he said, “Oh, he’s xenophobic.” Now, he runs for President, he said, “We should have acted sooner.” Months later, he didn’t think we should do it. Hundreds of thousands more people would have died. We saved two million people or more. Remember the model? It said 2.2 million people would die. Well, we saved two million people by acting quickly. Now, Biden wants a cruel and very heartless nationwide shut down. It won’t affect you, because you’re already shut down. I don’t know what the heck. What’s going on with your state? Are you ready to open up? I think so, huh? No, you know what? People aren’t going to take it anymore. Look at what happened in Europe, and the people are revolting. They don’t want to do it anymore. They can’t do it anymore. We can’t have the cure be worse than the problem itself. That was the first thing I said a long time ago.',\n",
       " 'President Donald J. Trump: (19:34)\\nThe Biden lockdown will result in countless deaths and wipe out an entire generation of dreams. And we’ve learned that children with a computer do not do well compared to being in classes. They don’t do well. It’s not the same. And the parents have to go to work, and the problems that are caused with alcohol, drug abuse. We can’t let this happen. And you can’t let it go on. I have a feeling that probably they’ll say, “It’s now November 4th, the day after the election, we’ll go back. We’ll go back.” He should have never done that. And they should have never done that. And actually, the states that are doing best, look at Florida, look at all of these states where they had a spike and they didn’t close down. Look at what happened in Arizona. Look at what happened in Texas. We can’t let it happen. Europe imposed Draconian lockdowns, and yet their cases are exploding. Their deaths are surging and their economies are, let’s face it, you look at what happened, they’re in ruins.',\n",
       " 'President Donald J. Trump: (20:37)\\nWe had the smallest down and the largest up and the largest fast up on the economy, by far. So the European lockdowns are leading to more suffering, delayed medical care, and financial devastation. A vote for Biden is a vote for lockdowns, layoffs, misery, and getting rid of your Second Amendment. They want to hurt our police, but they want to take away your guns. Very interesting, isn’t it? If you want a vaccine to kill the virus, a job to support your family, and freedom to live your life, then go cast your ballot, cast your vote for me. We’re going to do it. We’re doing it. But you don’t have to take my word for it, because in certain states that I like a lot, we spend a lot of money for, where is that rail? Look at that over there. Look at that.',\n",
       " 'Speaker 2: (21:34)\\nFour more years!',\n",
       " 'President Donald J. Trump: (21:35)\\nYou’re going to see something right now. You don’t have to listen. Please roll the video. Roll it.',\n",
       " 'Joe Biden: (21:45)\\nMy problem is I voted for NAFTA. I’m supporting NAFTA because I think it is a positive thing to do. And I do not pretend to be an expert on international trade matters.',\n",
       " 'Bernie Sanders: (21:57)\\nTrade agreements like NAFTA and permanent normal trade relations with China, which forced American workers to compete against people making pennies an hour has resulted in the loss of 160,000 jobs.',\n",
       " 'Speaker 3: (22:09)\\nThe President is absolutely right when he says that China has been cheating for 25 years, and that Bill Clinton didn’t do enough about it, George W. Bush didn’t do enough about it, Barack Obama didn’t do enough about it.',\n",
       " 'Joe Biden: (22:19)\\nA rising China is an incredibly positive development for not only China but the United States and the rest of the world. A rising China is a positive, positive development. It is in our self interest that China continue to prosper. We want to see China rise. China’s a great nation and we should hope for the continued expansion. China is not our enemy. We talk about China as our competitor, we should be helping. The idea that China is going to eat our lunch is bizarre. The idea that they are our competition, that they’re going to beat us, is bizarre. They’re not bad folks, folks. China’s not a problem.',\n",
       " 'Jake Tapper: (23:02)\\nAllowing China into the World Trade Organization, which you supported, extending most favored nation status to China, which you supported, that those steps allowed China to take advantage of the United States by using our own open trade deals against us.',\n",
       " 'Joe Biden: (23:22)\\nNow, look.',\n",
       " 'Jake Tapper: (23:22)\\nDo you think in retrospect that you were naive about China?',\n",
       " 'Joe Biden: (23:25)\\nNo.',\n",
       " 'Jake Tapper: (23:26)\\nBut doesn’t he deserve some credit for that? It’s better. The USMCA is better than NAFTA.',\n",
       " 'Joe Biden: (23:31)\\nIt is better than NAFTA. We have to come together. That’s why I’m running. I’m running as a proud Democrat for the Senate. So vote, vote. Visit iwill.com/Ohio. God bless you.',\n",
       " 'Speaker 4: (23:49)\\nCan somebody tell Joe, by the way, it’s not a real website, and Joe you’re running for President, not Senator. And by the way that Senator, the Mormon guy, is Mitt Romney, not some Mormon Governor. Now, sadly, what we showed you that’s just …',\n",
       " 'Speaker 4: (24:03)\\nSome Mormon governor. Now, sadly, what we showed you, that’s just from a couple of hours today because every time that Joe actually leaves the basement bunker and stays out past 10:00 a.m., well, disaster ensues. Here’s a quick reminder.',\n",
       " 'Joe Biden: (24:17)\\nTomorrow’s superstar Thursday. And I want to thank you all. I’ll tell you what, I’m rushing ahead, aren’t I. We hold these truths to be self-evident all men and women are created by the… Go, you know, the, you know the thing. If you agree with me, go to Joe three O three three O. We choose truth over facts. Play the radio. Make sure the television, excuse me, make sure you have the record player on at night, the phone. Make sure the kids hear words. Poor kids are just as bright and just as talented as white kids. Donald Trump does pose the next little spent to this… It’s not hypothetic.',\n",
       " 'Speaker 4: (24:58)\\nThis is pretty serious. By the way, these are way beyond an occasional campaign gaff. And I am beginning… Well, I’m more than a little worried that this man could represent a clear and present danger to this country. He’s obviously not capable of leading. He’s been hiding the entire campaign and the corrupt media mob is covering for him. Joe wants to be the President of the United States of America. That would be the toughest job in the world. And at times, Joe doesn’t seem to remember that he’s even running for President or what state he’s in or what day of the week it is. Does anyone really believe that if elected that Joe Biden will actually be in control of anything?',\n",
       " 'Joe Biden: (25:42)\\nWhat kind of country are we going to be? Four more years of George, George, he’s going to find ourselves in a position where if Trump gets elected, we’re going to be, we’re going to be in a different world.',\n",
       " 'Joe Biden: (25:55)\\nBarack and I think it’s a right for people to have bad at health care. Folks, we got a lot of work to do. I don’t really need you to get me elected. I need you once I’m elected. I’ll lead an effective strategy to mobilize truant international under pressure. [inaudible 00:02:16].',\n",
       " 'President Donald J. Trump: (26:25)\\nThank you. Well, thank you very much. That saves a lot of words up here on this cold windy night. It saves a lot of words, but we can’t do this to our country. We have such potential. We cannot do this. He’s failed for 47 years. And at the debate, all I had to do is very easy. I said, “Joe, why didn’t you do it?” You know, as he stood in complained, “What about this, what…,” I said, “Joe, you left three and a half years ago. You were there for a long time. And you were in that position for eight years. Why didn’t you do it, Joe?” And he never had an answer. No law enforcement endorsements, no nothing.',\n",
       " 'President Donald J. Trump: (27:20)\\nJoining us tonight are some people that have done a great job and people that really helped me a lot in Washington, a man who right now I hear you do doing extremely well in the polls, senator, Tom Tillis. Tom, very good. I just saw a very good poll and we had a very good poll today, too.',\n",
       " 'President Donald J. Trump: (27:44)\\nI have to tell you that. I’ll tell you what, if I don’t win after coming here… They said, “Maybe we can cancel North Carolina tonight.” One of my guys, one of my geniuses said, “I think they’d understand.” You’ve only been out here for two days waiting. I said, “I don’t have the courage to even think about asking that question.” No, would never even think about it. No, you’ve been great to me. The victories that we’ve had together and what we’ve done for you, and we have you protected, including your tobacco growers. Right? We have it all. We have you all protected. You’re all protected.',\n",
       " 'President Donald J. Trump: (28:22)\\nA really wonderful person, wonderful woman, and she’s always with me, representative Virginia, Foxx. Virginia., thank you. Thank you, Virginia. Great job. You do.',\n",
       " 'President Donald J. Trump: (28:34)\\nA man that I’d love to see in. He’ll open you up. I think we can get a guarantee tonight. Lieutenant Governor, Dan Forest. Come on Dan, win. Good, Dan. Boy oh boy, I tell you that would be a natural. That’s a natural. You’ll open it up right away. Okay. You should win just on that one. This is crazy. He’s doing what the Washington Democrats are telling him to do.',\n",
       " 'President Donald J. Trump: (29:05)\\nAttorney General candidate Jim O’Neill, hi, Jim. I Great job, Jim. GOP Chairman Mike Whatley. How are we doing, Mike? Are we winning? Are we leading? The poll’s up. Right? Yeah, we’re up pretty good. We should be up.',\n",
       " 'President Donald J. Trump: (29:24)\\nCan you imagine? Can you imagine pastor and a friend of mine and he lives right down the road, Pastor Franklin Graham.',\n",
       " 'Franklin Graham: (30:01)\\nThank you, Mr. President. And I would like to just take a second to pray for this man. Will you join me? Father and our God, we pray for our President. Protect him and his family and protect our nation. And we pray this in Jesus’ name. Amen.',\n",
       " 'President Donald J. Trump: (30:16)\\nYou take care of yourself. Thank you. It’s a great honor. That’s good genes right there. Right? That’s good genes, Billy Graham. How good was Billy Graham? Right? Nobody liked Billy.',\n",
       " 'President Donald J. Trump: (30:36)\\nAfter years of rebuilding foreign countries, we are finally rebuilding our country. For 47 years, the Democrats viciously and brutally repeatedly attacked. And you know what we’re talking about because it was led by a man named Joe Biden… Black Americans, they attacked. Decimated the black middle class and called young black men super predators. To every black American, I am asking for you to vote. You have to vote on Tuesday. You can send a message on Tuesday to the corrupt Democrat establishment. Thank you. Thank you. Thank you very much.',\n",
       " 'President Donald J. Trump: (31:25)\\nWe’ve had tremendous support and by the way, just so you understand, I don’t want to look at all those cameras. Oh, they’re all blazing. You ready? So we’re doing so well. And one of the great things that’s happened is our African American vote. Our black community vote is way up. And they’re all saying, “Wow, wow.” They’re all saying… Everybody back there is saying, “Wow, that’s amazing.” That’s what’s happening in Florida. That’s what’s happening here. That’s what’s happening all over.',\n",
       " 'President Donald J. Trump: (31:58)\\nThis is your one and only chance to show sleepy Joe Biden what you think of his decisions to attack, insult, jail you. 1994, Bill, I’m fighting for you. And if you look at what we’ve done just quickly, criminal justice reform, prison reform, opportunities zones with Tim Scott, historically black colleges and universities long-term funding. They had no funding. They had… Every year, they had to come back and ask for funding. I said, “Nope, we’ve got to get your long-term funding.” We got them more money than they wanted. They needed it.',\n",
       " 'President Donald J. Trump: (32:37)\\nUnder my leadership, we achieved the most secure United States border in the history of our country. Biden would make every city in America a sanctuary city, which is not good. And it’s not Biden. It’s not Biden. It’s his handlers. I believe our country should be a sanctuary for law abiding American citizens. The Biden/Harris plan would also increase refugees 700%, opening flood gates to radical Islamic terrorism. You see what’s happening in France. I’m keeping terrorists, jihadists, and violent extremists out of our country.',\n",
       " 'President Donald J. Trump: (33:26)\\nAnd I was asked, on this very windy night, speaking of that, to do a thing that we used to do during the campaign. I’ll do it. Has anyone heard of The Snake?” Have you heard? Should I do it?',\n",
       " 'President Donald J. Trump: (33:42)\\nSo this has to do with this subject. And it’s been a long time since I’ve done this one, but so many people are asking. You ready? The Snake. On her way to work one morning down the path, along the Lake, a tender hearted woman, saw a poor half frozen snake. His pretty colored skin had been all frosted with the dew. “Poor thing,” she cried. “I’ll take you in and I’ll take care of you.” “Take me in oh, tender woman. Take me in for heaven’s sake. Take me in oh, tender woman,” sighed that vicious snake.',\n",
       " 'President Donald J. Trump: (34:24)\\nShe wrapped him up all cozy in a comforter of silk. And she laid him by the fireside with some honey and some milk. She hurried home from work that night. As soon as she arrived, she found that pretty snake she’d taken in had been revived. “Take me in oh, tender woman. Take me in for heaven’s sake. Take me in oh, tender woman,” sighed that vicious snake.',\n",
       " 'President Donald J. Trump: (34:53)\\nShe clutched him to her bosom. “You’re so beautiful, she cried, ” But I hadn’t brought you in by now, you know, you would have died.” She stroked his pretty skin again and kissed and held him tight. But instead of saying, thank you, this snake gave her a vicious bite. “Take me in oh, tender woman. Take me in for heaven’s sake. Take me in, oh, tender woman,” sighed that vicious snake. “I saved you,” cried the woman, “And you bit me, but why? You knew your bite was poisonous and now I’m going to die.” “Shut up, silly woman,” said the reptile with a grin. “You knew damn well I was a snake before you took me in.”',\n",
       " 'President Donald J. Trump: (35:47)\\nSo, I’ve been asked by so many people. I’ve been asked to do that one by so many people, but that pertains a little bit to what we see going on. And you look at Paris and you look at the attacks over the last week and you…',\n",
       " 'President Donald J. Trump: (36:03)\\n… Paris and you look at the attacks over the last week and you look at what’s happening and we are doing very well. We are doing very well. We have a very strong policy. We put in a ban that a lot of people were upset about and now they’re saying, thank you very much for the ban. We appreciate it very much.',\n",
       " 'President Donald J. Trump: (36:20)\\nWe invested $2.5 trillion in the US military. We also passed VA Choice and VA Accountability for our great vets. We have a 91% approval rating with our vets. That’s the highest by a lot in history, that by direction, the United States military conducted a successful operation to rescue an American hostage, last night. Kidnapped overseas just 96 hours earlier; incredible people.',\n",
       " 'President Donald J. Trump: (36:56)\\nThe US special forces brilliantly executed a daring nighttime operation. Over the last four years, we have rescued a record 55 hostages and detainees in more than 24 countries and we pay nothing because once you pay, those numbers go very high, but this operation should serve as a stark warning to terrorists and thugs who try to kidnap our people. You cannot escape the long reach of American military and American justice.',\n",
       " 'President Donald J. Trump: (37:36)\\nSo this happened last night. We’re very proud of them. I was at Fort Bragg and by the way, we’re leaving the name Fort Bragg in case you had any [inaudible 00:01:45]. Let That word out if you don’t mind. Cancel culture. Let’s cancel. Let’s change everything. Naw. We’re leaving the name Fort Bragg. A lot of… We won two world wars out of Fort Bragg and other great places. Gee, let’s change the name of Fort Bragg.',\n",
       " 'President Donald J. Trump: (38:04)\\nWe obliterated the ISIS caliphate and we killed the leader of ISIS, al-Baghdadi. We eliminated the mass murder of US troops. Soleimani is dead. I withdrew from the last administration’s disastrous Iran Nuclear Deal. I recognized the capital of Israel and opened the American Embassy in Jerusalem. So recognized Israeli sovereignty over the Golan Heights; 52 years, they negotiated that deal. We did it in less than two hours and we are now forging peace in the Middle East. Already three countries and they’re lined up.',\n",
       " 'President Donald J. Trump: (38:49)\\nA vote for me in the Republican party is a vote to save the American Dream. And in conclusion, over the next four years, we will make America into the manufacturing superpower of the world and we will end our reliance on China once and for all.',\n",
       " 'President Donald J. Trump: (39:13)\\nWe will hire more police, increase penalties on law enforcement, and we will ban deadly sanctuary cities. With God’s help, we will defend the right to life, religious liberty, free speech, and the right to keep and bear arms. Your Second Amendment.',\n",
       " 'President Donald J. Trump: (39:40)\\nWhich Sleepy Joe will not be doing any of that. We will maintain America’s unrivaled military might, and we will ensure peace through strength. And we are the envy of the world, military. $2.5 trillion but we have the finest missiles and rockets and tanks and jets. What we’ve done, submarines. We have the greatest military and our nuclear arsenal has been updated and is a tippy-top shape. And only hope to God, we never have to use it. Hope to God, we never have to use it.',\n",
       " 'President Donald J. Trump: (40:17)\\nWe will end surprise medical billing. Require price transparency starts on January 1st, all done. Lower drug prices even more. Going to bring them down to the lowest anywhere in the world. I’ve exercised a thing called Favored Nations. The drug companies do not like me too much and we will always protect patients with pre-existing conditions.',\n",
       " 'President Donald J. Trump: (40:45)\\nAmerica will land the first woman on the moon and the United States will be the first nation to land an astronaut on Mars. We will stop the radical indoctrination of our students and restore patriotic education to our schools. We will teach our children to love our country, honor our history, and always respect our great American flag. And we will live by the timeless words of our national motto, in God we trust.',\n",
       " 'President Donald J. Trump: (41:26)\\nFor years, you had a president who apologized for America. Now you have a president who is standing up for America and standing up for the great people of North Carolina.',\n",
       " 'President Donald J. Trump: (41:41)\\nTwo days from now, America’s fate is in your hands. You must get out and vote. This is the most important election, possibly in the history of our country. You must let everyone know, go get them, go grab your family, grab your boss, grab your coworkers, grab them all. Got to get out and vote. So important.',\n",
       " 'President Donald J. Trump: (42:04)\\nFrom Asheville to Charlotte, from Wilmington to Raleigh and from Greensboro to right here in Hickory, great place. Greatest furniture in the world. I bought plenty of it and it’s much better than what they make in China. That I can tell you. I know it well. There’s a big difference. We inherit the legacy of red blooded American patriots who gave their blood, sweat, and tears to defend our country and to defend our freedom. We stand on the shoulders of American heroes, right? These are great, great heroes, who crossed the oceans, settled the continent, tame the wilderness, laid down the railroads, raised up the great skyscrapers, won two world wars, defeated fascism and communism, and made America into the single greatest nation in the history of the world and the best is yet to come.',\n",
       " 'President Donald J. Trump: (43:11)\\nProud citizens like you helped build this country and together we are taking back our country. We are returning power to you, the American people. With your help, your devotion and your drive, we are going to keep on working. We are going to keep on fighting and we are going to keep on winning, winning, winning.',\n",
       " 'President Donald J. Trump: (43:35)\\nVote for Tom. Get Tom in there, right? We are one movement, one people, one family, and one glorious nation under God, and together with the incredible people of North Carolina, we have made America powerful again; our military.',\n",
       " 'President Donald J. Trump: (43:54)\\nWe have made America wealthy again. We have made America strong again. We have made America proud again. We have made America safe again and we will make America great again.',\n",
       " 'President Donald J. Trump: (44:16)\\nThank you, North Carolina, go out and vote. Thank you.']"
      ]
     },
     "execution_count": 8,
     "metadata": {},
     "output_type": "execute_result"
    }
   ],
   "source": [
    "# Notice that our dictionary is currently in key: person, value: list of text format\n",
    "next(iter(data.values()))"
   ]
  },
  {
   "cell_type": "code",
   "execution_count": 9,
   "metadata": {},
   "outputs": [],
   "source": [
    "# We are going to change this to key: person, value: string format\n",
    "def combine_text(list_of_text):\n",
    "    '''Takes a list of text and combines them into one large chunk of text.'''\n",
    "    combined_text = ' '.join(list_of_text)\n",
    "    return combined_text"
   ]
  },
  {
   "cell_type": "code",
   "execution_count": 10,
   "metadata": {},
   "outputs": [],
   "source": [
    "# Combine it!\n",
    "data_combined = {key: [combine_text(value)] for (key, value) in data.items()}"
   ]
  },
  {
   "cell_type": "code",
   "execution_count": 11,
   "metadata": {},
   "outputs": [
    {
     "data": {
      "text/html": [
       "<div>\n",
       "<style scoped>\n",
       "    .dataframe tbody tr th:only-of-type {\n",
       "        vertical-align: middle;\n",
       "    }\n",
       "\n",
       "    .dataframe tbody tr th {\n",
       "        vertical-align: top;\n",
       "    }\n",
       "\n",
       "    .dataframe thead th {\n",
       "        text-align: right;\n",
       "    }\n",
       "</style>\n",
       "<table border=\"1\" class=\"dataframe\">\n",
       "  <thead>\n",
       "    <tr style=\"text-align: right;\">\n",
       "      <th></th>\n",
       "      <th>transcript</th>\n",
       "    </tr>\n",
       "  </thead>\n",
       "  <tbody>\n",
       "    <tr>\n",
       "      <td>Barack Obama</td>\n",
       "      <td>Barack Obama: (00:00)\\nHello, Orlando! Barack Obama: (00:10)\\nOh, this is a good looking crowd here! Thank you so much. Can everybody please give ...</td>\n",
       "    </tr>\n",
       "    <tr>\n",
       "      <td>Joe Biden</td>\n",
       "      <td>Joe Biden: (00:24)\\nHello, hello, hello. Hello, Philadelphia. It’s great to these everyone. Thank you, thank you, thank you. I want to thank Bisho...</td>\n",
       "    </tr>\n",
       "    <tr>\n",
       "      <td>Kamala Harris</td>\n",
       "      <td>Kamala Harris: (00:00)\\n… Working two jobs yet receiving no healthcare because private insurance system makes it so we are dependent on the genero...</td>\n",
       "    </tr>\n",
       "    <tr>\n",
       "      <td>President Donald J. Trump</td>\n",
       "      <td>President Donald J. Trump: (02:08)\\nThank you very much. Wow. This is a very big crowd. Wow look at this. Hello North Carolina, hello. Two days fr...</td>\n",
       "    </tr>\n",
       "    <tr>\n",
       "      <td>Vice President Mike Pence</td>\n",
       "      <td>Ben Carson: (00:01)\\n… but a great friend of America, our Vice President, the 48th Vice President of the United States. And I’ll tell you somethin...</td>\n",
       "    </tr>\n",
       "  </tbody>\n",
       "</table>\n",
       "</div>"
      ],
      "text/plain": [
       "                                                                                                                                                                      transcript\n",
       "Barack Obama               Barack Obama: (00:00)\\nHello, Orlando! Barack Obama: (00:10)\\nOh, this is a good looking crowd here! Thank you so much. Can everybody please give ...\n",
       "Joe Biden                  Joe Biden: (00:24)\\nHello, hello, hello. Hello, Philadelphia. It’s great to these everyone. Thank you, thank you, thank you. I want to thank Bisho...\n",
       "Kamala Harris              Kamala Harris: (00:00)\\n… Working two jobs yet receiving no healthcare because private insurance system makes it so we are dependent on the genero...\n",
       "President Donald J. Trump  President Donald J. Trump: (02:08)\\nThank you very much. Wow. This is a very big crowd. Wow look at this. Hello North Carolina, hello. Two days fr...\n",
       "Vice President Mike Pence  Ben Carson: (00:01)\\n… but a great friend of America, our Vice President, the 48th Vice President of the United States. And I’ll tell you somethin..."
      ]
     },
     "execution_count": 11,
     "metadata": {},
     "output_type": "execute_result"
    }
   ],
   "source": [
    "# We can either keep it in dictionary format or put it into a pandas dataframe\n",
    "import pandas as pd\n",
    "pd.set_option('max_colwidth',150)\n",
    "\n",
    "data_df = pd.DataFrame.from_dict(data_combined).transpose()\n",
    "data_df.columns = ['transcript']\n",
    "data_df = data_df.sort_index()\n",
    "data_df"
   ]
  },
  {
   "cell_type": "code",
   "execution_count": 12,
   "metadata": {
    "scrolled": true
   },
   "outputs": [
    {
     "data": {
      "text/plain": [
       "'Barack Obama: (00:00)\\nHello, Orlando! Barack Obama: (00:10)\\nOh, this is a good looking crowd here! Thank you so much. Can everybody please give [Lorden 00:00:26] a big round of applause for that great introduction? What an outstanding young man. Barack Obama: (00:34)\\nNow, it is good to be back here in Florida. I don’t know if we’ve got any Tampa Bay Rays fans here in Orlando? Big game tonight. It’s do-or-die time. Now, the last time the Rays were in the world series in 2008, Florida sent me to the White House. The Rays fell just a bit short then. But here in Florida, Democrats fell a little bit short in 2016 also. Over the next couple of weeks, Florida, you’ve got the chance to fix two mistakes. You’ve got the chance to set two things right. You can bring a World Series championship to the Sunshine State and you can send Joe Biden and Kamala Harris to the White House. We’ve got one week, Orlando. One week. Speaker 1: (01:36)\\n[Spanish 00:00:01:36]. Barack Obama: (01:37)\\n[Spanish 00:01:36]. One week until the most important election of our lifetimes. You don’t have to wait until next Tuesday to cast your ballot, you’ve got two ways to vote right now. Number one, you can vote early in person right now. Number two, you can vote from home with a mail-in ballot. Don’t wait. Put it in the mail or drop it off at a drop-box location today. Don’t take any chances, just get it done. Just go to IWillVote.com to find out where you can early vote in person or drop off your ballot. How many of you have already voted? If you’ve already voted, then your job is to go help your friends and family make a plan to vote because this election requires every single one of us. What we do this week will matter for decades to come. Barack Obama: (02:48)\\nNow I’ve sat in the Oval Office with both of the men who were running for president. Just in case you couldn’t tell, they’re very different people. I didn’t think that Donald Trump would embrace my vision or my policies, but I did hope for the country’s sake that he might show some interest in taking the job seriously. But he didn’t. He hasn’t shown any interest in doing the work or helping anybody but himself and his friends or treating the presidency as anything more than a reality show that can give him the attention that he craves, and he does crave attention. This week with everything that’s happening, you know what he brought up? He was fussing about the crowd size at the inauguration again, saying his was bigger. Who is thinking about that right now? Nobody accept him. But the rest of us have had to live with the consequences: More than 225,000 people in this country are dead, more than 100,000 small businesses have closed, half-a-million jobs are gone in Florida alone. Think about that. Barack Obama: (04:15)\\nWhat’s his closing argument? That people are too focused on COVID. He said this at one of rallies. “COVID, COVID, COVID,” he’s complaining. He’s jealous of COVID’s media coverage. If he had been focused on COVID from the beginning, cases wouldn’t be reaching new record highs across the country this week. If we were focused on COVID now, the White House wouldn’t be having its second outbreak in a month. The White House. Let me say this, I lived in the White House for a while. It’s a controlled environment. You can take some preventative measures in the White House to avoid getting sick, except this guy can’t seem to do it. He’s turned the White House into a hot zone. Some of the places he holds rallies have seen new spikes right after he leaves town. And over the weekend, his chief of staff said, and I’m quoting here, I’m not making this up, his chief of staff on a news program says, “We’re not going to control the pandemic.” He just said this. Speaker 1: (05:34)\\nYes, he did. Barack Obama: (05:35)\\nYes, he did. And yes, we noticed you’re not going to control the pandemic. Barack Obama: (05:39)\\nListen, winter is coming. They’re waving the white flag of surrender. Florida, we can’t afford four more years of this. That’s why we’ve got to send Joe Biden to the White House, because we cannot afford this kind of incompetence and disinterest. 12 years ago when I chose a vice-president, I didn’t know Joe all that well. We served in the Senate together. I notice, by the way, one of my great friends, Ben Nelson. Bill Nelson. See, I haven’t seen Bill in a while, so that’s why. Plus, he’s wearing a mask. But one of the great senators from Florida, and Joe and I served together with him. I had a lot of friends in the Senate, but Joe and I wasn’t the closest person. But he and I came from different places, we came from different generations, but I quickly came to admire Joe as a man who learned early to treat everybody he meets with dignity and respect. Bill will testify to this, Joe is somebody who lives by the words his parents taught him: “No one’s better than you, Joe, but you’re better than nobody.” He believes everybody counts. He believes everybody’s important. And that empathy, that decency, that belief in other people, that’s who Joe is, and that’s who he’ll be. Barack Obama: (07:12)\\nI can tell you the presidency doesn’t change who you are, it reveals who you are. Joe, time and time again, has shown himself to be a man of principle and character and he’s going to be a great president. For eight years, Joe was the last one in the room. Whenever I faced a big decision. He made me a better president, and he’s got the character and the experience to make us a better country. He and Kamala are going to be in the fight not for themselves but for every single one of us. Speaker 1: (07:49)\\nAmen. Amen. Barack Obama: (07:51)\\nListen, you’ve got a president right now, he wants full credit for an economy that he inherited, he wants zero blame for the pandemic he ignored. But you know what? The job doesn’t work that way. You’ve got to be responsible 24/7. You’ve got to pay attention 24/7. Tweeting at the TV doesn’t fix things. Watching TV all day doesn’t fix things. Making stuff up doesn’t fix things. You’ve got to have a plan if you want to make people’s lives better. You’ve got to put in the work if you want to make people’s lives better. Along with the experience to get things done, Joe Biden has concrete plans and he’s got concrete policies that will turn our vision of a better fairer, stronger country into a reality. Barack Obama: (08:44)\\nLook, here’s the truth: The pandemic would have been challenging for any president, but this idea that somehow this White House has done anything but completely screw this thing up is nonsense. South Korea had its first case of COVID at the same time, the same week as the United States. Do you know that their per capita death rate is just 1.3% of what ours is? Think about that statistic. I’ve given this statistic a couple of times and people haven’t really focused on it. The number of people in Korea who have died of COVID per capita is less than 1.5%. What our death rate is. That’s thousands and thousands of people, if we had been as effective and responsible, whose lives would have been saved in this country. Just across the border in Canada, the death rate per capita is 39% what ours here is in the United States. We are the largest, the wealthiest, most powerful country on earth and we cannot somehow get a grip on this because our government hasn’t been doing its job. Barack Obama: (10:13)\\nLast week when Trump was asked if he’d do anything differently, you know what he said? He said, “Not much. Not much.” Really? Not much? You can’t think of anything that you might be doing differently, like maybe you shouldn’t have gotten on TV and suggested we might inject bleach to cure COVID? That’s not something you said maybe I shouldn’t have said that? Not much. Think about how hard the tourism industry has been hit right here in Orlando, right here in Florida. You lost one spring training season already, and he can’t think of doing anything differently? Barack Obama: (10:58)\\nJoe takes this seriously. He knows the emotional toll- Barack Obama: (11:03)\\nHe knows the emotional toll on grandparents when they can’t see and hug their grandkids. He’s not going to screw up testing. He’s not going to call scientists idiots. He’s not going to host super spreader events at the White House, and then take it on a tour all across the country. Joe will get this pandemic under control with a plan to make testing free and widely available. He’s going to get a vaccine to every American cost-free, and he’s going to make sure our frontline heroes never have to ask other countries for the equipment that they need to keep themselves safe. His plan will guarantee paid sick leave for workers and parents affected by the pandemic. He’s going to make sure that small businesses that hold our communities together and employ millions of Americans can reopen safely. Barack Obama: (12:04)\\nAnd he understands that we’re not going to rebuild the economy and put people back to work until we get this pandemic under control. It’s not that complicated. Donald Trump likes to claim he built this economy, but I just want to remind you that America created 1.5 million more jobs in the last three years of the Obama Biden administration than in the first three years of the Trump Pence administration. That’s a fact. Look it up. And that was before Trump could blame the pandemic. He, in fact, inherited the longest streak of job growth in American history. But just like everything else he inherited, he screwed it up. Barack Obama: (12:56)\\nAnd the economic damage that he inflicted by botching the pandemic response means he will be the first president since Herbert Hoover to actually lose jobs, first president since Herbert Hoover, back in the thirties. That’s a long time people. That’s almost a hundred years ago. He loves to talk about Black unemployment. Look how low Black unemployment … Well, you know what? Unemployment was really high when I came in, and we brought that unemployment low, and it kept on going low, and he wants to take credit for it. Says he’s the best president for Black folks since Abe Lincoln? Man! Now his advisors are out there saying, including his son-in-law. His son-in-law says Black folks have to want to be successful. That’s the problem. Who are these folks? What history books do they read? Who do they talk to? Don’t read? Is that what is going on? Barack Obama: (14:07)\\nBlack unemployment hit almost 17% during the great recession 10 years ago, and through a lot of hard work, Joe Biden and I helped get it down, and it kept on going down, not because Trump did anything. And then this year, because they screwed up the pandemic response, it’s soared back up to above 17% here in Florida. But it doesn’t have to be that way, Florida, if you go out and vote. Barack Obama: (14:45)\\nSi se puede. Yes we can. Listen, the only people truly better off than they were four years ago are the billionaires that got Trump’s tax cuts. In the meantime, he has not been able to manage extending relief to millions of families who can’t pay the rent right now, can’t put food on the table right now. Got no plan to reopen schools that need reopening or protecting teachers in the process. I don’t understand how it is that he cannot organize Republicans in Congress to do the right thing. And it’s not like it’s his money that we’re asking him to pay because he doesn’t pay taxes. Barely pays income tax. Barack Obama: (15:37)\\nWe know he’s got a secret Chinese bank account, so he may be paying taxes to the Chinese, but he’s not paying taxes here. First year in the White House, only paid $750 in taxes, in federal income taxes. $750. Can you imagine that? I mean, teachers pay more than that. Social workers pay more than that in taxes. Huh? Soldiers. Folks in uniform pay more in taxes than that. So how are you living large, and you’re not willing to do the right thing to make sure that we’re able to pay for quality schools for our kids, to provide veterans benefits for those who’ve earned them. Barack Obama: (16:35)\\nJoe Biden has a plan to create 10 million good clean energy jobs right here in America. It’s part of his plan to protect Florida from climate change and secure environmental justice, and he’s going to pay for it by rolling back those tax cuts to billionaires. And the thing is, Joe doesn’t just want to get back to where we were. He finally wants to make some long overdue changes so that our economy actually makes life a little easier for everybody. The waitress trying to raise a kid on her own, the student trying to figure out how to pay for next semester’s classes, the shift worker who’s worried about maybe being laid off, the cancer survivor who’s worried that her preexisting conditions might prevent her from being able to get coverage. Barack Obama: (17:32)\\nAnd speaking of healthcare, by the way, you may have noticed Republicans love saying right before an election how they’re going to protect people who have preexisting conditions. Have you noticed that? Well, you know what? Joe and I actually protected them 10 years ago with the Affordable Care Act. And you know those same Republicans who say they’re going to protect them, somehow they have tried to repeal or undermine the Affordable Care Act more than 60 times. And each time they try to repeal it, they say, “Oh, we’ve got a great replacement. It’s coming.” Everybody’s a little young here, but you guys remember Popeye? And remember that guy who always needed to borrow some money for a hamburger? He said, “Don’t worry. I’m going to be paying you back sometime soon.” Barack Obama: (18:27)\\nThat’s like Republicans with healthcare. They always say, “It’s coming soon. We’re going to be paying you back with a great replacement plan.” But that two weeks has been 10 years coming now. For the last 10 years, every two weeks, they say, “We’re going to have a great healthcare plan.” You know where it is? Because I don’t. The reason they don’t have a plan is because a plan doesn’t exist. They’ve never had one. They’ve instead attacked the Affordable Care Act at every turn, driving up costs, driving up the uninsured. Barack Obama: (19:04)\\nNow they’re trying to get the Supreme Court to take away your healthcare, right now, as quickly as they can, in the middle of a pandemic with nothing but empty promises to take its place. Think about what that would do to families right here in Florida. Florida has the highest enrollment under the Affordable Care Act of any state in America. Last week, Trump flat-out said he hopes the Supreme Court takes your health insurance away. Said it out loud. Don’t boo. Vote. And last night, he installed the Supreme Court justice who he hopes will help him do it. Don’t boo. Vote. Florida, this is serious. And Joe and Kamala will protect your healthcare. They will expand Medicare. They’ll make insurance more affordable for everybody. Barack Obama: (20:06)\\nBecause Joe knows that a president’s first job is to keep us safe from all threats, foreign, domestic, and microscopic. When the daily intelligence briefings flash warning lights about a virus, the president can’t ignore it, can’t be too lazy to read the briefing. When Russia puts bounties on the heads of our soldiers in Afghanistan, the commander in chief can’t be MIA, missing in action. Joe Biden would never call the men and women of our military suckers or losers because they were willing to sacrifice their lives on behalf of the American people. Joe Biden understands those troops are somebody’s kids, somebody’s dad, somebody’s mom, somebody’s husband, somebody’s wife’s, somebody’s father or mother. Barack Obama: (21:06)\\nAnd Joe Biden understands that there is glory and goodness in being willing to sacrifice on behalf of others, something that apparently this administration just doesn’t comprehend. Our current president, he whines that 60 Minutes is too tough. You think he’s going to stand up to dictators? He thinks Leslie Stahl’s a bully. Just yesterday, just yesterday, he said that Putin of Russia, Xi of China, and Kim Jong-Un of North Korea want him to win. We know! We know because you’ve been giving them whatever they want for the last four years. Of course they want you to win. That’s not a good thing. You shouldn’t brag. Barack Obama: (22:03)\\nThat’s not a good thing. You shouldn’t brag about the fact that some of our greatest adversaries think they’d be better off with you in office. Of course they do. What does that say about you? I mean, think about that. Why are you bragging about that? Come on. And that doesn’t make any sense. Joe Biden wouldn’t coddle dictators. He’ll promote human rights around the world, including in Cuba. Joe will restore our battered standing around the world because he knows our true strength comes from setting an example that the world wants to follow. A nation that stands with democracy, not dictators, a nation that can inspire and mobilize others to overcome threats like climate change and terrorism and poverty and disease. Barack Obama: (22:59)\\nAnd here’s one other thing. Joe and Kamala, when they are in office, they’re not going to have… You’re not going to have to think about them every single day. You’re not going to have to worry about what crazy things they’re going to say, what they’re going to tweet. They’re just going to be too busy doing the work. It just won’t be so exhausting. You’ll be able to go about your lives, knowing that the President’s not going to retweet conspiracy theories about secret cabals running the world or suggest, I mean, listen, our President of the United States retweeted a post that claimed that the Navy SEALs didn’t actually kill bin Laden. Think about that. And we act like, well, okay. It’s not okay. We’re not going to have a President when Joe Biden’s in office, that goes out of his way to insult people just because they don’t support him. He’ll be a President for all people, including people who didn’t vote for him because he knows that’s the job of being President. Barack Obama: (24:23)\\nI mean, we’ve gotten so numb to what is bizarre behavior. We have a President right now who lies multiple times a day, and this is not my claim. Even Fox news sometimes says, well, what he says, isn’t really true, he didn’t mean it. It’s not normal behavior. We wouldn’t tolerate it from a coworker. We wouldn’t tolerate it from a football coach. We wouldn’t tolerate it from a high school principal. I mean, we might have to put up with it if it was a family member, but we talk about them afterwards. Even Florida man wouldn’t be doing some of this stuff. Why would we accept it from President of the United States? And you know what I mean? Sometimes it’s almost too easy to make fun of it, but it’s serious. There are consequences to his actions. Barack Obama: (25:31)\\nIf he was just on Jerry Springer or something, you’d say well… But this is the most powerful office on earth. And when people see the President doing things like that, it emboldens other people to be mean and cruel and divisive and racist and it frays the fabric of our lives. It affects the way our children see things. When we tell our children to tell the truth, and then we have the person in the highest office in the land who doesn’t seem capable of doing so, that undermines our society. It affects the way our families get along. It affects the way the world looks at America and it distracts from the truly destructive actions that his cronies are doing all across the government as we speak, actions that affect your lives. Barack Obama: (26:34)\\nYou got the Environmental Protection Agency that’s supposed to protect our air and our water. It’s run by an energy lobbyist that gives polluters free rein to dump unlimited poison into our air and our water. It’s not right. It ain’t right. The Labor Department, that’s supposed to protect workers. It’s run by a corporate lobbyist who’s declared war on workers, trying to gut protections to keep essential folks safe during a pandemic, making it easier for big corporations to steal their wages. The Interior Department, that’s supposed to protect our public lands, our wilderness, the Everglades, it’s run by an oil lobbyist who’s just fine with selling them to the highest bidder. Barack Obama: (27:27)\\nYou’ve got an education department run by a billionaire who has gutted rules designed to protect students from getting ripped off by for-profit colleges. And then is stiff arming students looking for loan relief in the middle of an economic collapse. You’ve got the person who runs Medicaid, trying not to get more people on the Medicaid so they’ve got better healthcare, but to kick more people off of Medicaid. Come one. It ain’t right. So what are you going to do about it? You got to vote. You got to vote. When Joe and Kamala are in charge, they’re not going to surround themselves with hacks and lobbyists. They’re going to surround themselves with qualified public service, who actually are serious about doing their job, who are looking out for you, for your job, your family, your health, your communities, your planet, and that more than anything is what separates them from their opponents. Barack Obama: (28:40)\\nThey actually care about you. They actually care about every American and they’re going to be fighting on your behalf every single day. They’re not going to get everything right every time. They’re not going to solve every problem right away, but they’re going to be working on it every single day to see how can I make sure this little brand new baby right here is inheriting a better world. That’s what they care about. I will say that I miss kissing babies during pandemic. I can’t do it, but I look at that a little bundle right there, brand new. It’s got the new baby smell. Congratulations. But Joe and Kamala, they care deeply about people and they care about our democracy. They believe that in a democracy, the right to vote is sacred. We shouldn’t be making people wait in line for hours. We should be making it easier for everybody to vote, not harder. Barack Obama: (29:54)\\nThey believe that no one, especially the President, is above the law. They understand that protest isn’t un-American. This country was founded on protesting against injustice. And we don’t threaten to throw our political opponents in jail just because we disagree with them. That’s what happens in dictatorship. That doesn’t happen in the United States of America. Joe and Kamala understand that our ability to work together to solve big problems like the pandemic depends on more than just photo ops. It depends on applying facts and logic and science and not making things up, not flooding the internet with misinformation. These should not be Republican or Democratic values. Barack Obama: (30:52)\\nThey’re what we grew up learning from our parents and grandparents. They’re not white or black or Hispanic or Asian or Native American values, they’re supposed to be American values. And we have to reclaim them right now. And how are we going to do that? By voting. We’ve got to turn out like never before Orlando. We have to leave no doubt. We can’t be complacent. We were complacent last time. Folks got a little lazy. Folks took things for granted. And look what happened. Not this time, not in this election. I understand there’s some Americans who get frustrated by government. They feel like, oh, it doesn’t make enough of a difference. My vote won’t make a difference. Listen, the government’s not perfect, it’s not going to solve every problem, but a good government can make things better. Barack Obama: (31:53)\\nThings were better when I left office, than when I started. They weren’t perfect, but they were better. A President shouldn’t make things worse. A President by himself can’t solve every challenge facing our economy. But if we elect a President who cares and we elect a House and a Senate and a State House and a State Senate that are focused on working people and getting you the help you need, it can make a difference. A President by himself can’t eliminate all racial bias in our criminal justice system. But if we elect District Attorneys and State’s Attorneys and Sheriffs and Police Chiefs focused on equality and justice, it can make things better. And that’s what voting is about. Not making things perfect, but making them better. It’s about putting us on track so that a generation from now we can look back and say, hey, things started getting better. It’s about using the power we have and pulling it together, to make- Barack Obama: (33:03)\\nIt’s about using the power we have and pulling it together to make sure that we have a government that’s more concerned, more responsive, more focused on you. And you know what? When I hear people say, well, I don’t know, I voted last time. Things didn’t change as much as I thought. Listen, we’ve never come close to seeing what it would be like if everybody voted. In 2008, that was the highest voting rate in modern presidential history. You know what? We only got to 61%. That means 39% of the folks didn’t vote who were eligible to vote. What would happen if suddenly we started getting 70% voting rates? What would happen if we got 60, 70% of the people voting instead of 55% of people voting? Barack Obama: (33:56)\\nThe country would be transformed. Imagine. Imagine January 20th and we swear in a president and a vice-president who have a plan to deal with this pandemic effectively, who believe in science, who have a plan to protect this planet for our children, who care about working Americans, who have a plan to help you start getting ahead, who believe in racial equality, who are willing to do the work to bring us closer to the ideal that no matter what you look like, where you come from, who you love, how much money you got, you can make it here in America. You’ll be treated with respect, and dignity and justice here in America. Barack Obama: (34:43)\\nImagine a president when Puerto Rico gets hit by a hurricane, doesn’t respond just by throwing paper towels, but says, those are Americans and we’ve got to make sure that we get in the help they need as quickly as possible. That’s what you should expect from a president. And if you’re not getting that, then you have to go out there and vote to make it happen. All of that is possible. All of that is within our reach. For all the times these past four years when we’ve seen our worst impulses revealed, the good news is we’ve also seen our best impulses revealed. We’ve seen folks of every age and background pack city centers and town squares so that families wouldn’t be separated. I’ve got a friend, Jose Andress, great restaurateur, took it upon himself, went down to Puerto Rico after the hurricane, organized thousands of meals just on his own because he was seeing that the response wasn’t quick enough. Just did it on his own. That is America. We saw people out on the streets saying, we’re not going to have our classrooms shut up anymore. We’ve seen people activated to make sure our kids don’t grow up on an uninhabitable planet. We’ve seen healthcare workers, so many of them all across the country, risk their lives every single day just to save somebody else’s loved ones. We’ve seen people contribute and volunteer to neighbors that have been hit hard. We’ve seen Americans of all races joining together to declare in the face of injustice and brutality at the hands of the state that black lives matter no more, but no less, for that no child in this country should feel the continuing sting of racism. That’s true in Orlando, it’s true in Florida, it’s true all across this country. Barack Obama: (37:08)\\nAmerica is a good and decent place, but we’ve just seen so much noise, and nonsense and distortion, and sometimes it’s hard for us to remember. But Orlando, I’m asking you to remember what this country can be, what it should be, what it must be. I’m asking you to believe in Joe’s ability to lead this country out of these dark times, to help us build it back better. Don’t abandon those who are hurting right now. We can’t abandon the kids who aren’t getting the education they need right now. We can’t abandon all those young people who are out on the streets who inspires. We’ve got to channel their activism into action. We can’t just dream for a better future, we got to fight for a better future. We got to out hustle the other side. We’ve got to vote like never before and leave no doubt. So make a plan, vote as early as you can, grab your friends and your family, get them to vote all the way up and down the ticket. Barack Obama: (38:15)\\nAnd if we pour all our efforts into this final week, if we vote like never before, then we will elect Joe Biden President of the United States. We’ll elect Kamala Harris Vice President of the United States. We will establish once again what this country stands for, what our values are, who we are as a people. Let’s get to work, Florida. Let’s bring it home. I love you, Orlando. I love you Florida. Honk if you’re fired up. Honk if you’re ready to go. Are you fired up? Are you ready to go? I’m fired up. Let’s go do this thing. Let’s bring it home. Thank you.'"
      ]
     },
     "execution_count": 12,
     "metadata": {},
     "output_type": "execute_result"
    }
   ],
   "source": [
    "# Let's take a look at the transcript for Ali Wong\n",
    "data_df.transcript.loc['Barack Obama']"
   ]
  },
  {
   "cell_type": "code",
   "execution_count": 13,
   "metadata": {},
   "outputs": [],
   "source": [
    "# Apply a first round of text cleaning techniques\n",
    "import re\n",
    "import string\n",
    "\n",
    "def clean_text_round1(text):\n",
    "    '''Make text lowercase, remove text in square brackets, remove punctuation and remove words containing numbers.'''\n",
    "    text = text.lower()\n",
    "    text = re.sub('\\[.*?\\]', '', text)\n",
    "    text = re.sub('\\(.*?\\)', '', text)\n",
    "    text = re.sub('[%s]' % re.escape(string.punctuation), '', text)\n",
    "    text = re.sub('\\w*\\d\\w*', '', text)\n",
    "    return text\n",
    "\n",
    "round1 = lambda x: clean_text_round1(x)"
   ]
  },
  {
   "cell_type": "code",
   "execution_count": 14,
   "metadata": {},
   "outputs": [
    {
     "data": {
      "text/html": [
       "<div>\n",
       "<style scoped>\n",
       "    .dataframe tbody tr th:only-of-type {\n",
       "        vertical-align: middle;\n",
       "    }\n",
       "\n",
       "    .dataframe tbody tr th {\n",
       "        vertical-align: top;\n",
       "    }\n",
       "\n",
       "    .dataframe thead th {\n",
       "        text-align: right;\n",
       "    }\n",
       "</style>\n",
       "<table border=\"1\" class=\"dataframe\">\n",
       "  <thead>\n",
       "    <tr style=\"text-align: right;\">\n",
       "      <th></th>\n",
       "      <th>transcript</th>\n",
       "    </tr>\n",
       "  </thead>\n",
       "  <tbody>\n",
       "    <tr>\n",
       "      <td>Barack Obama</td>\n",
       "      <td>barack obama \\nhello orlando barack obama \\noh this is a good looking crowd here thank you so much can everybody please give  a big round of appla...</td>\n",
       "    </tr>\n",
       "    <tr>\n",
       "      <td>Joe Biden</td>\n",
       "      <td>joe biden \\nhello hello hello hello philadelphia it’s great to these everyone thank you thank you thank you i want to thank bishop reid i really m...</td>\n",
       "    </tr>\n",
       "    <tr>\n",
       "      <td>Kamala Harris</td>\n",
       "      <td>kamala harris \\n… working two jobs yet receiving no healthcare because private insurance system makes it so we are dependent on the generosity of ...</td>\n",
       "    </tr>\n",
       "    <tr>\n",
       "      <td>President Donald J. Trump</td>\n",
       "      <td>president donald j trump \\nthank you very much wow this is a very big crowd wow look at this hello north carolina hello two days from now we are g...</td>\n",
       "    </tr>\n",
       "    <tr>\n",
       "      <td>Vice President Mike Pence</td>\n",
       "      <td>ben carson \\n… but a great friend of america our vice president the  vice president of the united states and i’ll tell you something interesting a...</td>\n",
       "    </tr>\n",
       "  </tbody>\n",
       "</table>\n",
       "</div>"
      ],
      "text/plain": [
       "                                                                                                                                                                      transcript\n",
       "Barack Obama               barack obama \\nhello orlando barack obama \\noh this is a good looking crowd here thank you so much can everybody please give  a big round of appla...\n",
       "Joe Biden                  joe biden \\nhello hello hello hello philadelphia it’s great to these everyone thank you thank you thank you i want to thank bishop reid i really m...\n",
       "Kamala Harris              kamala harris \\n… working two jobs yet receiving no healthcare because private insurance system makes it so we are dependent on the generosity of ...\n",
       "President Donald J. Trump  president donald j trump \\nthank you very much wow this is a very big crowd wow look at this hello north carolina hello two days from now we are g...\n",
       "Vice President Mike Pence  ben carson \\n… but a great friend of america our vice president the  vice president of the united states and i’ll tell you something interesting a..."
      ]
     },
     "execution_count": 14,
     "metadata": {},
     "output_type": "execute_result"
    }
   ],
   "source": [
    "# Let's take a look at the updated text\n",
    "data_clean = pd.DataFrame(data_df.transcript.apply(round1))\n",
    "data_clean"
   ]
  },
  {
   "cell_type": "code",
   "execution_count": 15,
   "metadata": {},
   "outputs": [],
   "source": [
    "# Apply a second round of cleaning\n",
    "def clean_text_round2(text):\n",
    "    '''Get rid of some additional punctuation and non-sensical text that was missed the first time around.'''\n",
    "    text = re.sub('[‘’“”…]', '', text)\n",
    "    text = re.sub('\\n', '', text)\n",
    "    return text\n",
    "\n",
    "round2 = lambda x: clean_text_round2(x)"
   ]
  },
  {
   "cell_type": "code",
   "execution_count": 16,
   "metadata": {},
   "outputs": [
    {
     "data": {
      "text/html": [
       "<div>\n",
       "<style scoped>\n",
       "    .dataframe tbody tr th:only-of-type {\n",
       "        vertical-align: middle;\n",
       "    }\n",
       "\n",
       "    .dataframe tbody tr th {\n",
       "        vertical-align: top;\n",
       "    }\n",
       "\n",
       "    .dataframe thead th {\n",
       "        text-align: right;\n",
       "    }\n",
       "</style>\n",
       "<table border=\"1\" class=\"dataframe\">\n",
       "  <thead>\n",
       "    <tr style=\"text-align: right;\">\n",
       "      <th></th>\n",
       "      <th>transcript</th>\n",
       "    </tr>\n",
       "  </thead>\n",
       "  <tbody>\n",
       "    <tr>\n",
       "      <td>Barack Obama</td>\n",
       "      <td>barack obama hello orlando barack obama oh this is a good looking crowd here thank you so much can everybody please give  a big round of applause ...</td>\n",
       "    </tr>\n",
       "    <tr>\n",
       "      <td>Joe Biden</td>\n",
       "      <td>joe biden hello hello hello hello philadelphia its great to these everyone thank you thank you thank you i want to thank bishop reid i really mean...</td>\n",
       "    </tr>\n",
       "    <tr>\n",
       "      <td>Kamala Harris</td>\n",
       "      <td>kamala harris  working two jobs yet receiving no healthcare because private insurance system makes it so we are dependent on the generosity of our...</td>\n",
       "    </tr>\n",
       "    <tr>\n",
       "      <td>President Donald J. Trump</td>\n",
       "      <td>president donald j trump thank you very much wow this is a very big crowd wow look at this hello north carolina hello two days from now we are goi...</td>\n",
       "    </tr>\n",
       "    <tr>\n",
       "      <td>Vice President Mike Pence</td>\n",
       "      <td>ben carson  but a great friend of america our vice president the  vice president of the united states and ill tell you something interesting about...</td>\n",
       "    </tr>\n",
       "  </tbody>\n",
       "</table>\n",
       "</div>"
      ],
      "text/plain": [
       "                                                                                                                                                                      transcript\n",
       "Barack Obama               barack obama hello orlando barack obama oh this is a good looking crowd here thank you so much can everybody please give  a big round of applause ...\n",
       "Joe Biden                  joe biden hello hello hello hello philadelphia its great to these everyone thank you thank you thank you i want to thank bishop reid i really mean...\n",
       "Kamala Harris              kamala harris  working two jobs yet receiving no healthcare because private insurance system makes it so we are dependent on the generosity of our...\n",
       "President Donald J. Trump  president donald j trump thank you very much wow this is a very big crowd wow look at this hello north carolina hello two days from now we are goi...\n",
       "Vice President Mike Pence  ben carson  but a great friend of america our vice president the  vice president of the united states and ill tell you something interesting about..."
      ]
     },
     "execution_count": 16,
     "metadata": {},
     "output_type": "execute_result"
    }
   ],
   "source": [
    "# Let's take a look at the updated text\n",
    "data_clean = pd.DataFrame(data_clean.transcript.apply(round2))\n",
    "data_clean"
   ]
  },
  {
   "cell_type": "code",
   "execution_count": 17,
   "metadata": {},
   "outputs": [
    {
     "data": {
      "text/html": [
       "<div>\n",
       "<style scoped>\n",
       "    .dataframe tbody tr th:only-of-type {\n",
       "        vertical-align: middle;\n",
       "    }\n",
       "\n",
       "    .dataframe tbody tr th {\n",
       "        vertical-align: top;\n",
       "    }\n",
       "\n",
       "    .dataframe thead th {\n",
       "        text-align: right;\n",
       "    }\n",
       "</style>\n",
       "<table border=\"1\" class=\"dataframe\">\n",
       "  <thead>\n",
       "    <tr style=\"text-align: right;\">\n",
       "      <th></th>\n",
       "      <th>transcript</th>\n",
       "    </tr>\n",
       "  </thead>\n",
       "  <tbody>\n",
       "    <tr>\n",
       "      <td>Barack Obama</td>\n",
       "      <td>Barack Obama: (00:00)\\nHello, Orlando! Barack Obama: (00:10)\\nOh, this is a good looking crowd here! Thank you so much. Can everybody please give ...</td>\n",
       "    </tr>\n",
       "    <tr>\n",
       "      <td>Joe Biden</td>\n",
       "      <td>Joe Biden: (00:24)\\nHello, hello, hello. Hello, Philadelphia. It’s great to these everyone. Thank you, thank you, thank you. I want to thank Bisho...</td>\n",
       "    </tr>\n",
       "    <tr>\n",
       "      <td>Kamala Harris</td>\n",
       "      <td>Kamala Harris: (00:00)\\n… Working two jobs yet receiving no healthcare because private insurance system makes it so we are dependent on the genero...</td>\n",
       "    </tr>\n",
       "    <tr>\n",
       "      <td>President Donald J. Trump</td>\n",
       "      <td>President Donald J. Trump: (02:08)\\nThank you very much. Wow. This is a very big crowd. Wow look at this. Hello North Carolina, hello. Two days fr...</td>\n",
       "    </tr>\n",
       "    <tr>\n",
       "      <td>Vice President Mike Pence</td>\n",
       "      <td>Ben Carson: (00:01)\\n… but a great friend of America, our Vice President, the 48th Vice President of the United States. And I’ll tell you somethin...</td>\n",
       "    </tr>\n",
       "  </tbody>\n",
       "</table>\n",
       "</div>"
      ],
      "text/plain": [
       "                                                                                                                                                                      transcript\n",
       "Barack Obama               Barack Obama: (00:00)\\nHello, Orlando! Barack Obama: (00:10)\\nOh, this is a good looking crowd here! Thank you so much. Can everybody please give ...\n",
       "Joe Biden                  Joe Biden: (00:24)\\nHello, hello, hello. Hello, Philadelphia. It’s great to these everyone. Thank you, thank you, thank you. I want to thank Bisho...\n",
       "Kamala Harris              Kamala Harris: (00:00)\\n… Working two jobs yet receiving no healthcare because private insurance system makes it so we are dependent on the genero...\n",
       "President Donald J. Trump  President Donald J. Trump: (02:08)\\nThank you very much. Wow. This is a very big crowd. Wow look at this. Hello North Carolina, hello. Two days fr...\n",
       "Vice President Mike Pence  Ben Carson: (00:01)\\n… but a great friend of America, our Vice President, the 48th Vice President of the United States. And I’ll tell you somethin..."
      ]
     },
     "execution_count": 17,
     "metadata": {},
     "output_type": "execute_result"
    }
   ],
   "source": [
    "# Let's take a look at our dataframe\n",
    "data_df"
   ]
  },
  {
   "cell_type": "code",
   "execution_count": 18,
   "metadata": {},
   "outputs": [
    {
     "data": {
      "text/html": [
       "<div>\n",
       "<style scoped>\n",
       "    .dataframe tbody tr th:only-of-type {\n",
       "        vertical-align: middle;\n",
       "    }\n",
       "\n",
       "    .dataframe tbody tr th {\n",
       "        vertical-align: top;\n",
       "    }\n",
       "\n",
       "    .dataframe thead th {\n",
       "        text-align: right;\n",
       "    }\n",
       "</style>\n",
       "<table border=\"1\" class=\"dataframe\">\n",
       "  <thead>\n",
       "    <tr style=\"text-align: right;\">\n",
       "      <th></th>\n",
       "      <th>transcript</th>\n",
       "      <th>full_name</th>\n",
       "    </tr>\n",
       "  </thead>\n",
       "  <tbody>\n",
       "    <tr>\n",
       "      <td>Barack Obama</td>\n",
       "      <td>Barack Obama: (00:00)\\nHello, Orlando! Barack Obama: (00:10)\\nOh, this is a good looking crowd here! Thank you so much. Can everybody please give ...</td>\n",
       "      <td>Barack Obama</td>\n",
       "    </tr>\n",
       "    <tr>\n",
       "      <td>Joe Biden</td>\n",
       "      <td>Joe Biden: (00:24)\\nHello, hello, hello. Hello, Philadelphia. It’s great to these everyone. Thank you, thank you, thank you. I want to thank Bisho...</td>\n",
       "      <td>Joe Biden</td>\n",
       "    </tr>\n",
       "    <tr>\n",
       "      <td>Kamala Harris</td>\n",
       "      <td>Kamala Harris: (00:00)\\n… Working two jobs yet receiving no healthcare because private insurance system makes it so we are dependent on the genero...</td>\n",
       "      <td>Kamala Harris</td>\n",
       "    </tr>\n",
       "    <tr>\n",
       "      <td>President Donald J. Trump</td>\n",
       "      <td>President Donald J. Trump: (02:08)\\nThank you very much. Wow. This is a very big crowd. Wow look at this. Hello North Carolina, hello. Two days fr...</td>\n",
       "      <td>Donald Trump</td>\n",
       "    </tr>\n",
       "    <tr>\n",
       "      <td>Vice President Mike Pence</td>\n",
       "      <td>Ben Carson: (00:01)\\n… but a great friend of America, our Vice President, the 48th Vice President of the United States. And I’ll tell you somethin...</td>\n",
       "      <td>Mike Pence</td>\n",
       "    </tr>\n",
       "  </tbody>\n",
       "</table>\n",
       "</div>"
      ],
      "text/plain": [
       "                                                                                                                                                                      transcript  \\\n",
       "Barack Obama               Barack Obama: (00:00)\\nHello, Orlando! Barack Obama: (00:10)\\nOh, this is a good looking crowd here! Thank you so much. Can everybody please give ...   \n",
       "Joe Biden                  Joe Biden: (00:24)\\nHello, hello, hello. Hello, Philadelphia. It’s great to these everyone. Thank you, thank you, thank you. I want to thank Bisho...   \n",
       "Kamala Harris              Kamala Harris: (00:00)\\n… Working two jobs yet receiving no healthcare because private insurance system makes it so we are dependent on the genero...   \n",
       "President Donald J. Trump  President Donald J. Trump: (02:08)\\nThank you very much. Wow. This is a very big crowd. Wow look at this. Hello North Carolina, hello. Two days fr...   \n",
       "Vice President Mike Pence  Ben Carson: (00:01)\\n… but a great friend of America, our Vice President, the 48th Vice President of the United States. And I’ll tell you somethin...   \n",
       "\n",
       "                               full_name  \n",
       "Barack Obama                Barack Obama  \n",
       "Joe Biden                      Joe Biden  \n",
       "Kamala Harris              Kamala Harris  \n",
       "President Donald J. Trump   Donald Trump  \n",
       "Vice President Mike Pence     Mike Pence  "
      ]
     },
     "execution_count": 18,
     "metadata": {},
     "output_type": "execute_result"
    }
   ],
   "source": [
    "# Let's add the comedians' full names as well\n",
    "full_names = ['Barack Obama','Joe Biden','Kamala Harris','Donald Trump','Mike Pence' ]\n",
    "\n",
    "data_df['full_name'] = full_names\n",
    "data_df"
   ]
  },
  {
   "cell_type": "code",
   "execution_count": 19,
   "metadata": {},
   "outputs": [],
   "source": [
    "# Let's pickle it for later use\n",
    "data_df.to_pickle(\"corpus.pkl\")"
   ]
  },
  {
   "cell_type": "code",
   "execution_count": 20,
   "metadata": {},
   "outputs": [
    {
     "data": {
      "text/html": [
       "<div>\n",
       "<style scoped>\n",
       "    .dataframe tbody tr th:only-of-type {\n",
       "        vertical-align: middle;\n",
       "    }\n",
       "\n",
       "    .dataframe tbody tr th {\n",
       "        vertical-align: top;\n",
       "    }\n",
       "\n",
       "    .dataframe thead th {\n",
       "        text-align: right;\n",
       "    }\n",
       "</style>\n",
       "<table border=\"1\" class=\"dataframe\">\n",
       "  <thead>\n",
       "    <tr style=\"text-align: right;\">\n",
       "      <th></th>\n",
       "      <th>abandon</th>\n",
       "      <th>abe</th>\n",
       "      <th>abiding</th>\n",
       "      <th>ability</th>\n",
       "      <th>able</th>\n",
       "      <th>abolish</th>\n",
       "      <th>abolition</th>\n",
       "      <th>abortion</th>\n",
       "      <th>abortions</th>\n",
       "      <th>abraham</th>\n",
       "      <th>...</th>\n",
       "      <th>york</th>\n",
       "      <th>youd</th>\n",
       "      <th>youll</th>\n",
       "      <th>young</th>\n",
       "      <th>youre</th>\n",
       "      <th>youve</th>\n",
       "      <th>zero</th>\n",
       "      <th>zeta</th>\n",
       "      <th>zone</th>\n",
       "      <th>zones</th>\n",
       "    </tr>\n",
       "  </thead>\n",
       "  <tbody>\n",
       "    <tr>\n",
       "      <td>Barack Obama</td>\n",
       "      <td>3</td>\n",
       "      <td>1</td>\n",
       "      <td>0</td>\n",
       "      <td>2</td>\n",
       "      <td>4</td>\n",
       "      <td>0</td>\n",
       "      <td>0</td>\n",
       "      <td>0</td>\n",
       "      <td>0</td>\n",
       "      <td>0</td>\n",
       "      <td>...</td>\n",
       "      <td>0</td>\n",
       "      <td>1</td>\n",
       "      <td>2</td>\n",
       "      <td>3</td>\n",
       "      <td>8</td>\n",
       "      <td>12</td>\n",
       "      <td>1</td>\n",
       "      <td>0</td>\n",
       "      <td>1</td>\n",
       "      <td>0</td>\n",
       "    </tr>\n",
       "    <tr>\n",
       "      <td>Joe Biden</td>\n",
       "      <td>0</td>\n",
       "      <td>0</td>\n",
       "      <td>0</td>\n",
       "      <td>0</td>\n",
       "      <td>0</td>\n",
       "      <td>0</td>\n",
       "      <td>0</td>\n",
       "      <td>0</td>\n",
       "      <td>0</td>\n",
       "      <td>0</td>\n",
       "      <td>...</td>\n",
       "      <td>1</td>\n",
       "      <td>0</td>\n",
       "      <td>0</td>\n",
       "      <td>0</td>\n",
       "      <td>0</td>\n",
       "      <td>1</td>\n",
       "      <td>0</td>\n",
       "      <td>0</td>\n",
       "      <td>0</td>\n",
       "      <td>0</td>\n",
       "    </tr>\n",
       "    <tr>\n",
       "      <td>Kamala Harris</td>\n",
       "      <td>0</td>\n",
       "      <td>0</td>\n",
       "      <td>0</td>\n",
       "      <td>1</td>\n",
       "      <td>4</td>\n",
       "      <td>0</td>\n",
       "      <td>0</td>\n",
       "      <td>0</td>\n",
       "      <td>0</td>\n",
       "      <td>0</td>\n",
       "      <td>...</td>\n",
       "      <td>0</td>\n",
       "      <td>0</td>\n",
       "      <td>0</td>\n",
       "      <td>2</td>\n",
       "      <td>1</td>\n",
       "      <td>1</td>\n",
       "      <td>0</td>\n",
       "      <td>1</td>\n",
       "      <td>0</td>\n",
       "      <td>0</td>\n",
       "    </tr>\n",
       "    <tr>\n",
       "      <td>President Donald J. Trump</td>\n",
       "      <td>0</td>\n",
       "      <td>0</td>\n",
       "      <td>1</td>\n",
       "      <td>0</td>\n",
       "      <td>1</td>\n",
       "      <td>1</td>\n",
       "      <td>0</td>\n",
       "      <td>0</td>\n",
       "      <td>0</td>\n",
       "      <td>0</td>\n",
       "      <td>...</td>\n",
       "      <td>2</td>\n",
       "      <td>0</td>\n",
       "      <td>1</td>\n",
       "      <td>3</td>\n",
       "      <td>7</td>\n",
       "      <td>3</td>\n",
       "      <td>0</td>\n",
       "      <td>0</td>\n",
       "      <td>0</td>\n",
       "      <td>1</td>\n",
       "    </tr>\n",
       "    <tr>\n",
       "      <td>Vice President Mike Pence</td>\n",
       "      <td>0</td>\n",
       "      <td>0</td>\n",
       "      <td>0</td>\n",
       "      <td>0</td>\n",
       "      <td>3</td>\n",
       "      <td>0</td>\n",
       "      <td>1</td>\n",
       "      <td>3</td>\n",
       "      <td>1</td>\n",
       "      <td>2</td>\n",
       "      <td>...</td>\n",
       "      <td>0</td>\n",
       "      <td>0</td>\n",
       "      <td>2</td>\n",
       "      <td>5</td>\n",
       "      <td>1</td>\n",
       "      <td>5</td>\n",
       "      <td>0</td>\n",
       "      <td>0</td>\n",
       "      <td>0</td>\n",
       "      <td>1</td>\n",
       "    </tr>\n",
       "  </tbody>\n",
       "</table>\n",
       "<p>5 rows × 2854 columns</p>\n",
       "</div>"
      ],
      "text/plain": [
       "                           abandon  abe  abiding  ability  able  abolish  \\\n",
       "Barack Obama                     3    1        0        2     4        0   \n",
       "Joe Biden                        0    0        0        0     0        0   \n",
       "Kamala Harris                    0    0        0        1     4        0   \n",
       "President Donald J. Trump        0    0        1        0     1        1   \n",
       "Vice President Mike Pence        0    0        0        0     3        0   \n",
       "\n",
       "                           abolition  abortion  abortions  abraham  ...  york  \\\n",
       "Barack Obama                       0         0          0        0  ...     0   \n",
       "Joe Biden                          0         0          0        0  ...     1   \n",
       "Kamala Harris                      0         0          0        0  ...     0   \n",
       "President Donald J. Trump          0         0          0        0  ...     2   \n",
       "Vice President Mike Pence          1         3          1        2  ...     0   \n",
       "\n",
       "                           youd  youll  young  youre  youve  zero  zeta  zone  \\\n",
       "Barack Obama                  1      2      3      8     12     1     0     1   \n",
       "Joe Biden                     0      0      0      0      1     0     0     0   \n",
       "Kamala Harris                 0      0      2      1      1     0     1     0   \n",
       "President Donald J. Trump     0      1      3      7      3     0     0     0   \n",
       "Vice President Mike Pence     0      2      5      1      5     0     0     0   \n",
       "\n",
       "                           zones  \n",
       "Barack Obama                   0  \n",
       "Joe Biden                      0  \n",
       "Kamala Harris                  0  \n",
       "President Donald J. Trump      1  \n",
       "Vice President Mike Pence      1  \n",
       "\n",
       "[5 rows x 2854 columns]"
      ]
     },
     "execution_count": 20,
     "metadata": {},
     "output_type": "execute_result"
    }
   ],
   "source": [
    "# We are going to create a document-term matrix using CountVectorizer, and exclude common English stop words\n",
    "from sklearn.feature_extraction.text import CountVectorizer\n",
    "\n",
    "cv = CountVectorizer(stop_words='english')\n",
    "data_cv = cv.fit_transform(data_clean.transcript)\n",
    "data_dtm = pd.DataFrame(data_cv.toarray(), columns=cv.get_feature_names())\n",
    "data_dtm.index = data_clean.index\n",
    "data_dtm"
   ]
  },
  {
   "cell_type": "code",
   "execution_count": 21,
   "metadata": {},
   "outputs": [],
   "source": [
    "# Let's pickle it for later use\n",
    "data_dtm.to_pickle(\"usa.pkl\")"
   ]
  },
  {
   "cell_type": "code",
   "execution_count": 22,
   "metadata": {},
   "outputs": [],
   "source": [
    "# Let's also pickle the cleaned data (before we put it in document-term matrix format) and the CountVectorizer object\n",
    "data_clean.to_pickle('usa_clean.pkl')\n",
    "pickle.dump(cv, open(\"cv.pkl\", \"wb\"))"
   ]
  },
  {
   "cell_type": "code",
   "execution_count": null,
   "metadata": {
    "collapsed": true
   },
   "outputs": [],
   "source": []
  }
 ],
 "metadata": {
  "kernelspec": {
   "display_name": "Python 3",
   "language": "python",
   "name": "python3"
  },
  "language_info": {
   "codemirror_mode": {
    "name": "ipython",
    "version": 3
   },
   "file_extension": ".py",
   "mimetype": "text/x-python",
   "name": "python",
   "nbconvert_exporter": "python",
   "pygments_lexer": "ipython3",
   "version": "3.7.4"
  },
  "toc": {
   "nav_menu": {},
   "number_sections": true,
   "sideBar": true,
   "skip_h1_title": false,
   "toc_cell": false,
   "toc_position": {},
   "toc_section_display": "block",
   "toc_window_display": false
  },
  "varInspector": {
   "cols": {
    "lenName": 16,
    "lenType": 16,
    "lenVar": 40
   },
   "kernels_config": {
    "python": {
     "delete_cmd_postfix": "",
     "delete_cmd_prefix": "del ",
     "library": "var_list.py",
     "varRefreshCmd": "print(var_dic_list())"
    },
    "r": {
     "delete_cmd_postfix": ") ",
     "delete_cmd_prefix": "rm(",
     "library": "var_list.r",
     "varRefreshCmd": "cat(var_dic_list()) "
    }
   },
   "types_to_exclude": [
    "module",
    "function",
    "builtin_function_or_method",
    "instance",
    "_Feature"
   ],
   "window_display": false
  }
 },
 "nbformat": 4,
 "nbformat_minor": 2
}
